{
 "cells": [
  {
   "cell_type": "markdown",
   "metadata": {},
   "source": [
    "# Aplicação do Modelo:"
   ]
  },
  {
   "cell_type": "code",
   "execution_count": 1,
   "metadata": {},
   "outputs": [],
   "source": [
    "import pandas as pd\n",
    "import joblib"
   ]
  },
  {
   "cell_type": "markdown",
   "metadata": {},
   "source": [
    "- #### Exemplificando a aplicação do modelo de previsão:\n",
    "    1. Foi escolhido um registro aleatório da base de dados previamente tratada (03 - Base de Dados Deploy.csv);\n",
    "    2. Os dados desse registro alimentaram a tabela (03 - Dados de Entrada.xlsx) que servirá de base para o modelo de previsão;\n",
    "    3. Comparação entre o preço real do imóvel e o preço estimado pelo modelo de previsão."
   ]
  },
  {
   "cell_type": "markdown",
   "metadata": {},
   "source": [
    "### Base de dados após todos os tratamentos"
   ]
  },
  {
   "cell_type": "code",
   "execution_count": 2,
   "metadata": {},
   "outputs": [
    {
     "name": "stdout",
     "output_type": "stream",
     "text": [
      "Preço real do imóvel: R$250.00\n"
     ]
    }
   ],
   "source": [
    "base_dados_df = pd.read_csv('03 - Base de Dados Deploy.csv', index_col = 0)\n",
    "\n",
    "preco_real_df = base_dados_df.loc[((base_dados_df['latitude'] == -22.90602) & (base_dados_df['Ano'] == 2020) & \n",
    "                                   (base_dados_df['Mes'] == 4)), :]\n",
    "print('Preço real do imóvel: R${:.2f}'.format(preco_real_df['price'].item()))"
   ]
  },
  {
   "cell_type": "markdown",
   "metadata": {},
   "source": [
    "### Preenchendo os dados de entrada para previsão"
   ]
  },
  {
   "cell_type": "code",
   "execution_count": 3,
   "metadata": {},
   "outputs": [
    {
     "data": {
      "text/html": [
       "<div>\n",
       "<style scoped>\n",
       "    .dataframe tbody tr th:only-of-type {\n",
       "        vertical-align: middle;\n",
       "    }\n",
       "\n",
       "    .dataframe tbody tr th {\n",
       "        vertical-align: top;\n",
       "    }\n",
       "\n",
       "    .dataframe thead th {\n",
       "        text-align: right;\n",
       "    }\n",
       "</style>\n",
       "<table border=\"1\" class=\"dataframe\">\n",
       "  <thead>\n",
       "    <tr style=\"text-align: right;\">\n",
       "      <th></th>\n",
       "      <th>host_is_superhost</th>\n",
       "      <th>host_listings_count</th>\n",
       "      <th>latitude</th>\n",
       "      <th>longitude</th>\n",
       "      <th>accommodates</th>\n",
       "      <th>bathrooms</th>\n",
       "      <th>bedrooms</th>\n",
       "      <th>beds</th>\n",
       "      <th>extra_people</th>\n",
       "      <th>minimum_nights</th>\n",
       "      <th>instant_bookable</th>\n",
       "      <th>Ano</th>\n",
       "      <th>Mes</th>\n",
       "      <th>qtde_amenities</th>\n",
       "      <th>property_type_Apartment</th>\n",
       "      <th>property_type_Bed and breakfast</th>\n",
       "      <th>property_type_Condominium</th>\n",
       "      <th>property_type_Guest suite</th>\n",
       "      <th>property_type_Guesthouse</th>\n",
       "      <th>property_type_Hostel</th>\n",
       "      <th>property_type_House</th>\n",
       "      <th>property_type_Loft</th>\n",
       "      <th>property_type_Outros</th>\n",
       "      <th>property_type_Serviced apartment</th>\n",
       "      <th>room_type_Entire home/apt</th>\n",
       "      <th>room_type_Hotel room</th>\n",
       "      <th>room_type_Private room</th>\n",
       "      <th>room_type_Shared room</th>\n",
       "      <th>cancellation_policy_Estrito</th>\n",
       "      <th>cancellation_policy_flexible</th>\n",
       "      <th>cancellation_policy_moderate</th>\n",
       "      <th>cancellation_policy_strict_14_with_grace_period</th>\n",
       "    </tr>\n",
       "  </thead>\n",
       "  <tbody>\n",
       "    <tr>\n",
       "      <th>0</th>\n",
       "      <td>0</td>\n",
       "      <td>4</td>\n",
       "      <td>-22.90602</td>\n",
       "      <td>-43.40893</td>\n",
       "      <td>3</td>\n",
       "      <td>1</td>\n",
       "      <td>1</td>\n",
       "      <td>3</td>\n",
       "      <td>0</td>\n",
       "      <td>1</td>\n",
       "      <td>0</td>\n",
       "      <td>2020</td>\n",
       "      <td>4</td>\n",
       "      <td>6</td>\n",
       "      <td>0</td>\n",
       "      <td>0</td>\n",
       "      <td>0</td>\n",
       "      <td>0</td>\n",
       "      <td>0</td>\n",
       "      <td>0</td>\n",
       "      <td>1</td>\n",
       "      <td>0</td>\n",
       "      <td>0</td>\n",
       "      <td>0</td>\n",
       "      <td>0</td>\n",
       "      <td>0</td>\n",
       "      <td>1</td>\n",
       "      <td>0</td>\n",
       "      <td>0</td>\n",
       "      <td>0</td>\n",
       "      <td>0</td>\n",
       "      <td>1</td>\n",
       "    </tr>\n",
       "  </tbody>\n",
       "</table>\n",
       "</div>"
      ],
      "text/plain": [
       "   host_is_superhost  host_listings_count  latitude  longitude  accommodates  \\\n",
       "0                  0                    4 -22.90602  -43.40893             3   \n",
       "\n",
       "   bathrooms  bedrooms  beds  extra_people  minimum_nights  instant_bookable  \\\n",
       "0          1         1     3             0               1                 0   \n",
       "\n",
       "    Ano  Mes  qtde_amenities  property_type_Apartment  \\\n",
       "0  2020    4               6                        0   \n",
       "\n",
       "   property_type_Bed and breakfast  property_type_Condominium  \\\n",
       "0                                0                          0   \n",
       "\n",
       "   property_type_Guest suite  property_type_Guesthouse  property_type_Hostel  \\\n",
       "0                          0                         0                     0   \n",
       "\n",
       "   property_type_House  property_type_Loft  property_type_Outros  \\\n",
       "0                    1                   0                     0   \n",
       "\n",
       "   property_type_Serviced apartment  room_type_Entire home/apt  \\\n",
       "0                                 0                          0   \n",
       "\n",
       "   room_type_Hotel room  room_type_Private room  room_type_Shared room  \\\n",
       "0                     0                       1                      0   \n",
       "\n",
       "   cancellation_policy_Estrito  cancellation_policy_flexible  \\\n",
       "0                            0                             0   \n",
       "\n",
       "   cancellation_policy_moderate  \\\n",
       "0                             0   \n",
       "\n",
       "   cancellation_policy_strict_14_with_grace_period  \n",
       "0                                                1  "
      ]
     },
     "metadata": {},
     "output_type": "display_data"
    }
   ],
   "source": [
    "entrada_df = pd.read_excel('03 - Dados de Entrada.xlsx')\n",
    "pd.set_option('display.max_columns', None)\n",
    "display(entrada_df)"
   ]
  },
  {
   "cell_type": "code",
   "execution_count": 4,
   "metadata": {},
   "outputs": [
    {
     "name": "stdout",
     "output_type": "stream",
     "text": [
      "Estimativa do preço do imóvel: R$253.97\n"
     ]
    }
   ],
   "source": [
    "modelo = joblib.load('03 - Modelo.joblib')\n",
    "preco = modelo.predict(entrada_df)\n",
    "print('Estimativa do preço do imóvel: R${}'.format(preco.item()))"
   ]
  }
 ],
 "metadata": {
  "kernelspec": {
   "display_name": "Python 3",
   "language": "python",
   "name": "python3"
  },
  "language_info": {
   "codemirror_mode": {
    "name": "ipython",
    "version": 3
   },
   "file_extension": ".py",
   "mimetype": "text/x-python",
   "name": "python",
   "nbconvert_exporter": "python",
   "pygments_lexer": "ipython3",
   "version": "3.8.5"
  }
 },
 "nbformat": 4,
 "nbformat_minor": 4
}
